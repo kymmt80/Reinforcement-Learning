{
 "cells": [
  {
   "cell_type": "markdown",
   "metadata": {},
   "source": [
    "# Q_Learning"
   ]
  },
  {
   "cell_type": "code",
   "execution_count": null,
   "metadata": {},
   "outputs": [],
   "source": [
    "import pandas as ps"
   ]
  },
  {
   "cell_type": "markdown",
   "metadata": {},
   "source": [
    "## Problem Description"
   ]
  },
  {
   "cell_type": "markdown",
   "metadata": {},
   "source": [
    "## Environment"
   ]
  },
  {
   "cell_type": "code",
   "execution_count": 18,
   "metadata": {},
   "outputs": [],
   "source": [
    "FINNISH_REWARD=10\n",
    "OBSTACLE_REWARD=-10\n",
    "PRIZE_REWARD=10\n",
    "EMPTY_REWARD=0"
   ]
  },
  {
   "cell_type": "code",
   "execution_count": 19,
   "metadata": {},
   "outputs": [],
   "source": [
    "class environment:\n",
    "    def __init__(self,file_location):\n",
    "        self.init_map(file_location)\n",
    "        self.loc=(0,0)\n",
    "        self.got_prize=False\n",
    "        self.actions={(1,0),(0,1),(-1,0),(0,-1)}\n",
    "        \n",
    "    def init_map(self,file_location):\n",
    "        map_file=open(file_location,\"r\")\n",
    "        map_str=map_file.read()\n",
    "        map_rows=map_str.split(\"\\n\")\n",
    "        self.map=[]\n",
    "        for row in map_rows:\n",
    "            self.map.append(row.split())\n",
    "    \n",
    "    def get_reward(self,loc):\n",
    "        curr_block=self.map[loc[0]][loc[1]]\n",
    "        if(curr_block=='.'):\n",
    "            return EMPTY_REWARD\n",
    "        if(curr_block =='F'):\n",
    "            return FINNISH_REWARD if self.got_prize else EMPTY_REWARD\n",
    "        if(curr_block =='P'):\n",
    "            return PRIZE_REWARD\n",
    "        if(curr_block =='O'):\n",
    "            return OBSTACLE_REWARD\n",
    "\n",
    "    def is_done(self,loc):  \n",
    "        curr_block=self.map[loc[0]][loc[1]]\n",
    "        return (self.got_prize and curr_block =='F') or curr_block =='O'\n",
    "\n",
    "    def get_next_state(self,action,make_move=False):\n",
    "        next_loc=tuple(map(sum, zip(self.loc, action)))\n",
    "        if(make_move):\n",
    "            self.loc = next_loc\n",
    "        return next_loc, self.get_reward(next_loc), self.is_done(next_loc)\n",
    "\n",
    "    def print(self):\n",
    "        print(self.map)"
   ]
  },
  {
   "cell_type": "markdown",
   "metadata": {},
   "source": [
    "## Implementation"
   ]
  },
  {
   "cell_type": "code",
   "execution_count": null,
   "metadata": {},
   "outputs": [],
   "source": []
  },
  {
   "cell_type": "markdown",
   "metadata": {},
   "source": [
    "## Results"
   ]
  },
  {
   "cell_type": "code",
   "execution_count": 20,
   "metadata": {},
   "outputs": [
    {
     "name": "stdout",
     "output_type": "stream",
     "text": [
      "[['.', '.', '.', '.'], ['.', 'O', '.', 'O'], ['.', '.', 'P', '.'], ['.', '.', '.', 'F']]\n"
     ]
    }
   ],
   "source": [
    "env=environment(\"map.txt\")\n",
    "env.print()"
   ]
  },
  {
   "cell_type": "code",
   "execution_count": 21,
   "metadata": {},
   "outputs": [
    {
     "name": "stdout",
     "output_type": "stream",
     "text": [
      "((1, 0), 0, False)\n"
     ]
    }
   ],
   "source": [
    "print(env.get_next_state((1,0)))"
   ]
  },
  {
   "cell_type": "markdown",
   "metadata": {},
   "source": []
  }
 ],
 "metadata": {
  "kernelspec": {
   "display_name": "Python 3.8.10 64-bit",
   "language": "python",
   "name": "python3"
  },
  "language_info": {
   "codemirror_mode": {
    "name": "ipython",
    "version": 3
   },
   "file_extension": ".py",
   "mimetype": "text/x-python",
   "name": "python",
   "nbconvert_exporter": "python",
   "pygments_lexer": "ipython3",
   "version": "3.8.10"
  },
  "orig_nbformat": 4,
  "vscode": {
   "interpreter": {
    "hash": "916dbcbb3f70747c44a77c7bcd40155683ae19c65e1c03b4aa3499c5328201f1"
   }
  }
 },
 "nbformat": 4,
 "nbformat_minor": 2
}
